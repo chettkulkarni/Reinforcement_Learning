{
  "nbformat": 4,
  "nbformat_minor": 0,
  "metadata": {
    "colab": {
      "name": "RL_Dl_homework_Chetan.ipynb",
      "provenance": [],
      "authorship_tag": "ABX9TyOrWqKNsZDTHm6q+jc7Go13",
      "include_colab_link": true
    },
    "kernelspec": {
      "name": "python3",
      "display_name": "Python 3"
    },
    "accelerator": "GPU",
    "widgets": {
      "application/vnd.jupyter.widget-state+json": {
        "bfa942fea0d24206bea5180669129bb0": {
          "model_module": "@jupyter-widgets/controls",
          "model_name": "HBoxModel",
          "state": {
            "_view_name": "HBoxView",
            "_dom_classes": [],
            "_model_name": "HBoxModel",
            "_view_module": "@jupyter-widgets/controls",
            "_model_module_version": "1.5.0",
            "_view_count": null,
            "_view_module_version": "1.5.0",
            "box_style": "",
            "layout": "IPY_MODEL_96ade204f1d948f5b25256a389eae86f",
            "_model_module": "@jupyter-widgets/controls",
            "children": [
              "IPY_MODEL_1c2c0e2d538d42b3814426f0f96d507e",
              "IPY_MODEL_e35ca2873be74273a5712d636ab02a10"
            ]
          }
        },
        "96ade204f1d948f5b25256a389eae86f": {
          "model_module": "@jupyter-widgets/base",
          "model_name": "LayoutModel",
          "state": {
            "_view_name": "LayoutView",
            "grid_template_rows": null,
            "right": null,
            "justify_content": null,
            "_view_module": "@jupyter-widgets/base",
            "overflow": null,
            "_model_module_version": "1.2.0",
            "_view_count": null,
            "flex_flow": null,
            "width": null,
            "min_width": null,
            "border": null,
            "align_items": null,
            "bottom": null,
            "_model_module": "@jupyter-widgets/base",
            "top": null,
            "grid_column": null,
            "overflow_y": null,
            "overflow_x": null,
            "grid_auto_flow": null,
            "grid_area": null,
            "grid_template_columns": null,
            "flex": null,
            "_model_name": "LayoutModel",
            "justify_items": null,
            "grid_row": null,
            "max_height": null,
            "align_content": null,
            "visibility": null,
            "align_self": null,
            "height": null,
            "min_height": null,
            "padding": null,
            "grid_auto_rows": null,
            "grid_gap": null,
            "max_width": null,
            "order": null,
            "_view_module_version": "1.2.0",
            "grid_template_areas": null,
            "object_position": null,
            "object_fit": null,
            "grid_auto_columns": null,
            "margin": null,
            "display": null,
            "left": null
          }
        },
        "1c2c0e2d538d42b3814426f0f96d507e": {
          "model_module": "@jupyter-widgets/controls",
          "model_name": "FloatProgressModel",
          "state": {
            "_view_name": "ProgressView",
            "style": "IPY_MODEL_b24a92aab3d2403897a55739f320b975",
            "_dom_classes": [],
            "description": "",
            "_model_name": "FloatProgressModel",
            "bar_style": "info",
            "max": 1,
            "_view_module": "@jupyter-widgets/controls",
            "_model_module_version": "1.5.0",
            "value": 1,
            "_view_count": null,
            "_view_module_version": "1.5.0",
            "orientation": "horizontal",
            "min": 0,
            "description_tooltip": null,
            "_model_module": "@jupyter-widgets/controls",
            "layout": "IPY_MODEL_44bfb35b27e94977828f85d5cec853d1"
          }
        },
        "e35ca2873be74273a5712d636ab02a10": {
          "model_module": "@jupyter-widgets/controls",
          "model_name": "HTMLModel",
          "state": {
            "_view_name": "HTMLView",
            "style": "IPY_MODEL_eb27956d419945359316fee5ce7a9d22",
            "_dom_classes": [],
            "description": "",
            "_model_name": "HTMLModel",
            "placeholder": "​",
            "_view_module": "@jupyter-widgets/controls",
            "_model_module_version": "1.5.0",
            "value": " 9920512/? [00:20&lt;00:00, 1013571.89it/s]",
            "_view_count": null,
            "_view_module_version": "1.5.0",
            "description_tooltip": null,
            "_model_module": "@jupyter-widgets/controls",
            "layout": "IPY_MODEL_16b8db83c78d491d98728b353b383580"
          }
        },
        "b24a92aab3d2403897a55739f320b975": {
          "model_module": "@jupyter-widgets/controls",
          "model_name": "ProgressStyleModel",
          "state": {
            "_view_name": "StyleView",
            "_model_name": "ProgressStyleModel",
            "description_width": "initial",
            "_view_module": "@jupyter-widgets/base",
            "_model_module_version": "1.5.0",
            "_view_count": null,
            "_view_module_version": "1.2.0",
            "bar_color": null,
            "_model_module": "@jupyter-widgets/controls"
          }
        },
        "44bfb35b27e94977828f85d5cec853d1": {
          "model_module": "@jupyter-widgets/base",
          "model_name": "LayoutModel",
          "state": {
            "_view_name": "LayoutView",
            "grid_template_rows": null,
            "right": null,
            "justify_content": null,
            "_view_module": "@jupyter-widgets/base",
            "overflow": null,
            "_model_module_version": "1.2.0",
            "_view_count": null,
            "flex_flow": null,
            "width": null,
            "min_width": null,
            "border": null,
            "align_items": null,
            "bottom": null,
            "_model_module": "@jupyter-widgets/base",
            "top": null,
            "grid_column": null,
            "overflow_y": null,
            "overflow_x": null,
            "grid_auto_flow": null,
            "grid_area": null,
            "grid_template_columns": null,
            "flex": null,
            "_model_name": "LayoutModel",
            "justify_items": null,
            "grid_row": null,
            "max_height": null,
            "align_content": null,
            "visibility": null,
            "align_self": null,
            "height": null,
            "min_height": null,
            "padding": null,
            "grid_auto_rows": null,
            "grid_gap": null,
            "max_width": null,
            "order": null,
            "_view_module_version": "1.2.0",
            "grid_template_areas": null,
            "object_position": null,
            "object_fit": null,
            "grid_auto_columns": null,
            "margin": null,
            "display": null,
            "left": null
          }
        },
        "eb27956d419945359316fee5ce7a9d22": {
          "model_module": "@jupyter-widgets/controls",
          "model_name": "DescriptionStyleModel",
          "state": {
            "_view_name": "StyleView",
            "_model_name": "DescriptionStyleModel",
            "description_width": "",
            "_view_module": "@jupyter-widgets/base",
            "_model_module_version": "1.5.0",
            "_view_count": null,
            "_view_module_version": "1.2.0",
            "_model_module": "@jupyter-widgets/controls"
          }
        },
        "16b8db83c78d491d98728b353b383580": {
          "model_module": "@jupyter-widgets/base",
          "model_name": "LayoutModel",
          "state": {
            "_view_name": "LayoutView",
            "grid_template_rows": null,
            "right": null,
            "justify_content": null,
            "_view_module": "@jupyter-widgets/base",
            "overflow": null,
            "_model_module_version": "1.2.0",
            "_view_count": null,
            "flex_flow": null,
            "width": null,
            "min_width": null,
            "border": null,
            "align_items": null,
            "bottom": null,
            "_model_module": "@jupyter-widgets/base",
            "top": null,
            "grid_column": null,
            "overflow_y": null,
            "overflow_x": null,
            "grid_auto_flow": null,
            "grid_area": null,
            "grid_template_columns": null,
            "flex": null,
            "_model_name": "LayoutModel",
            "justify_items": null,
            "grid_row": null,
            "max_height": null,
            "align_content": null,
            "visibility": null,
            "align_self": null,
            "height": null,
            "min_height": null,
            "padding": null,
            "grid_auto_rows": null,
            "grid_gap": null,
            "max_width": null,
            "order": null,
            "_view_module_version": "1.2.0",
            "grid_template_areas": null,
            "object_position": null,
            "object_fit": null,
            "grid_auto_columns": null,
            "margin": null,
            "display": null,
            "left": null
          }
        },
        "f2035f30602a4014a9398fbde270f97e": {
          "model_module": "@jupyter-widgets/controls",
          "model_name": "HBoxModel",
          "state": {
            "_view_name": "HBoxView",
            "_dom_classes": [],
            "_model_name": "HBoxModel",
            "_view_module": "@jupyter-widgets/controls",
            "_model_module_version": "1.5.0",
            "_view_count": null,
            "_view_module_version": "1.5.0",
            "box_style": "",
            "layout": "IPY_MODEL_6f7aff24362e4e5597b8eaf4084067ca",
            "_model_module": "@jupyter-widgets/controls",
            "children": [
              "IPY_MODEL_2c9a320a0c95440497bded00da3f1408",
              "IPY_MODEL_12af99c4759e47988de89d4431a35792"
            ]
          }
        },
        "6f7aff24362e4e5597b8eaf4084067ca": {
          "model_module": "@jupyter-widgets/base",
          "model_name": "LayoutModel",
          "state": {
            "_view_name": "LayoutView",
            "grid_template_rows": null,
            "right": null,
            "justify_content": null,
            "_view_module": "@jupyter-widgets/base",
            "overflow": null,
            "_model_module_version": "1.2.0",
            "_view_count": null,
            "flex_flow": null,
            "width": null,
            "min_width": null,
            "border": null,
            "align_items": null,
            "bottom": null,
            "_model_module": "@jupyter-widgets/base",
            "top": null,
            "grid_column": null,
            "overflow_y": null,
            "overflow_x": null,
            "grid_auto_flow": null,
            "grid_area": null,
            "grid_template_columns": null,
            "flex": null,
            "_model_name": "LayoutModel",
            "justify_items": null,
            "grid_row": null,
            "max_height": null,
            "align_content": null,
            "visibility": null,
            "align_self": null,
            "height": null,
            "min_height": null,
            "padding": null,
            "grid_auto_rows": null,
            "grid_gap": null,
            "max_width": null,
            "order": null,
            "_view_module_version": "1.2.0",
            "grid_template_areas": null,
            "object_position": null,
            "object_fit": null,
            "grid_auto_columns": null,
            "margin": null,
            "display": null,
            "left": null
          }
        },
        "2c9a320a0c95440497bded00da3f1408": {
          "model_module": "@jupyter-widgets/controls",
          "model_name": "FloatProgressModel",
          "state": {
            "_view_name": "ProgressView",
            "style": "IPY_MODEL_f75f35f39763463ba3898de9e9a794e5",
            "_dom_classes": [],
            "description": "",
            "_model_name": "FloatProgressModel",
            "bar_style": "success",
            "max": 1,
            "_view_module": "@jupyter-widgets/controls",
            "_model_module_version": "1.5.0",
            "value": 1,
            "_view_count": null,
            "_view_module_version": "1.5.0",
            "orientation": "horizontal",
            "min": 0,
            "description_tooltip": null,
            "_model_module": "@jupyter-widgets/controls",
            "layout": "IPY_MODEL_947797dad0644df7b82a4e69068789a1"
          }
        },
        "12af99c4759e47988de89d4431a35792": {
          "model_module": "@jupyter-widgets/controls",
          "model_name": "HTMLModel",
          "state": {
            "_view_name": "HTMLView",
            "style": "IPY_MODEL_dd581c560dbf4f00b8b65bbeaf1b318c",
            "_dom_classes": [],
            "description": "",
            "_model_name": "HTMLModel",
            "placeholder": "​",
            "_view_module": "@jupyter-widgets/controls",
            "_model_module_version": "1.5.0",
            "value": " 32768/? [00:01&lt;00:00, 27227.91it/s]",
            "_view_count": null,
            "_view_module_version": "1.5.0",
            "description_tooltip": null,
            "_model_module": "@jupyter-widgets/controls",
            "layout": "IPY_MODEL_b038ea1b0c6c4adf8432d822187f08a9"
          }
        },
        "f75f35f39763463ba3898de9e9a794e5": {
          "model_module": "@jupyter-widgets/controls",
          "model_name": "ProgressStyleModel",
          "state": {
            "_view_name": "StyleView",
            "_model_name": "ProgressStyleModel",
            "description_width": "initial",
            "_view_module": "@jupyter-widgets/base",
            "_model_module_version": "1.5.0",
            "_view_count": null,
            "_view_module_version": "1.2.0",
            "bar_color": null,
            "_model_module": "@jupyter-widgets/controls"
          }
        },
        "947797dad0644df7b82a4e69068789a1": {
          "model_module": "@jupyter-widgets/base",
          "model_name": "LayoutModel",
          "state": {
            "_view_name": "LayoutView",
            "grid_template_rows": null,
            "right": null,
            "justify_content": null,
            "_view_module": "@jupyter-widgets/base",
            "overflow": null,
            "_model_module_version": "1.2.0",
            "_view_count": null,
            "flex_flow": null,
            "width": null,
            "min_width": null,
            "border": null,
            "align_items": null,
            "bottom": null,
            "_model_module": "@jupyter-widgets/base",
            "top": null,
            "grid_column": null,
            "overflow_y": null,
            "overflow_x": null,
            "grid_auto_flow": null,
            "grid_area": null,
            "grid_template_columns": null,
            "flex": null,
            "_model_name": "LayoutModel",
            "justify_items": null,
            "grid_row": null,
            "max_height": null,
            "align_content": null,
            "visibility": null,
            "align_self": null,
            "height": null,
            "min_height": null,
            "padding": null,
            "grid_auto_rows": null,
            "grid_gap": null,
            "max_width": null,
            "order": null,
            "_view_module_version": "1.2.0",
            "grid_template_areas": null,
            "object_position": null,
            "object_fit": null,
            "grid_auto_columns": null,
            "margin": null,
            "display": null,
            "left": null
          }
        },
        "dd581c560dbf4f00b8b65bbeaf1b318c": {
          "model_module": "@jupyter-widgets/controls",
          "model_name": "DescriptionStyleModel",
          "state": {
            "_view_name": "StyleView",
            "_model_name": "DescriptionStyleModel",
            "description_width": "",
            "_view_module": "@jupyter-widgets/base",
            "_model_module_version": "1.5.0",
            "_view_count": null,
            "_view_module_version": "1.2.0",
            "_model_module": "@jupyter-widgets/controls"
          }
        },
        "b038ea1b0c6c4adf8432d822187f08a9": {
          "model_module": "@jupyter-widgets/base",
          "model_name": "LayoutModel",
          "state": {
            "_view_name": "LayoutView",
            "grid_template_rows": null,
            "right": null,
            "justify_content": null,
            "_view_module": "@jupyter-widgets/base",
            "overflow": null,
            "_model_module_version": "1.2.0",
            "_view_count": null,
            "flex_flow": null,
            "width": null,
            "min_width": null,
            "border": null,
            "align_items": null,
            "bottom": null,
            "_model_module": "@jupyter-widgets/base",
            "top": null,
            "grid_column": null,
            "overflow_y": null,
            "overflow_x": null,
            "grid_auto_flow": null,
            "grid_area": null,
            "grid_template_columns": null,
            "flex": null,
            "_model_name": "LayoutModel",
            "justify_items": null,
            "grid_row": null,
            "max_height": null,
            "align_content": null,
            "visibility": null,
            "align_self": null,
            "height": null,
            "min_height": null,
            "padding": null,
            "grid_auto_rows": null,
            "grid_gap": null,
            "max_width": null,
            "order": null,
            "_view_module_version": "1.2.0",
            "grid_template_areas": null,
            "object_position": null,
            "object_fit": null,
            "grid_auto_columns": null,
            "margin": null,
            "display": null,
            "left": null
          }
        },
        "e94c0c7642b84cc29326d8bf5d16e956": {
          "model_module": "@jupyter-widgets/controls",
          "model_name": "HBoxModel",
          "state": {
            "_view_name": "HBoxView",
            "_dom_classes": [],
            "_model_name": "HBoxModel",
            "_view_module": "@jupyter-widgets/controls",
            "_model_module_version": "1.5.0",
            "_view_count": null,
            "_view_module_version": "1.5.0",
            "box_style": "",
            "layout": "IPY_MODEL_2c21e23375e847369cb09e1cb963c8be",
            "_model_module": "@jupyter-widgets/controls",
            "children": [
              "IPY_MODEL_c990b515cee54d07ba28131bb6f94827",
              "IPY_MODEL_8722c7d5702d46d2b4d0c733c0fa2b9f"
            ]
          }
        },
        "2c21e23375e847369cb09e1cb963c8be": {
          "model_module": "@jupyter-widgets/base",
          "model_name": "LayoutModel",
          "state": {
            "_view_name": "LayoutView",
            "grid_template_rows": null,
            "right": null,
            "justify_content": null,
            "_view_module": "@jupyter-widgets/base",
            "overflow": null,
            "_model_module_version": "1.2.0",
            "_view_count": null,
            "flex_flow": null,
            "width": null,
            "min_width": null,
            "border": null,
            "align_items": null,
            "bottom": null,
            "_model_module": "@jupyter-widgets/base",
            "top": null,
            "grid_column": null,
            "overflow_y": null,
            "overflow_x": null,
            "grid_auto_flow": null,
            "grid_area": null,
            "grid_template_columns": null,
            "flex": null,
            "_model_name": "LayoutModel",
            "justify_items": null,
            "grid_row": null,
            "max_height": null,
            "align_content": null,
            "visibility": null,
            "align_self": null,
            "height": null,
            "min_height": null,
            "padding": null,
            "grid_auto_rows": null,
            "grid_gap": null,
            "max_width": null,
            "order": null,
            "_view_module_version": "1.2.0",
            "grid_template_areas": null,
            "object_position": null,
            "object_fit": null,
            "grid_auto_columns": null,
            "margin": null,
            "display": null,
            "left": null
          }
        },
        "c990b515cee54d07ba28131bb6f94827": {
          "model_module": "@jupyter-widgets/controls",
          "model_name": "FloatProgressModel",
          "state": {
            "_view_name": "ProgressView",
            "style": "IPY_MODEL_010bc6a3fbb643aab09db94365df2552",
            "_dom_classes": [],
            "description": "",
            "_model_name": "FloatProgressModel",
            "bar_style": "success",
            "max": 1,
            "_view_module": "@jupyter-widgets/controls",
            "_model_module_version": "1.5.0",
            "value": 1,
            "_view_count": null,
            "_view_module_version": "1.5.0",
            "orientation": "horizontal",
            "min": 0,
            "description_tooltip": null,
            "_model_module": "@jupyter-widgets/controls",
            "layout": "IPY_MODEL_99920c86c9514fa886789707e4ea3289"
          }
        },
        "8722c7d5702d46d2b4d0c733c0fa2b9f": {
          "model_module": "@jupyter-widgets/controls",
          "model_name": "HTMLModel",
          "state": {
            "_view_name": "HTMLView",
            "style": "IPY_MODEL_bc8ff975608e485b8fc0d8ccd116ba89",
            "_dom_classes": [],
            "description": "",
            "_model_name": "HTMLModel",
            "placeholder": "​",
            "_view_module": "@jupyter-widgets/controls",
            "_model_module_version": "1.5.0",
            "value": " 1654784/? [00:00&lt;00:00, 1909122.18it/s]",
            "_view_count": null,
            "_view_module_version": "1.5.0",
            "description_tooltip": null,
            "_model_module": "@jupyter-widgets/controls",
            "layout": "IPY_MODEL_40c4a7bf1e5647a9b03bc7803ac93884"
          }
        },
        "010bc6a3fbb643aab09db94365df2552": {
          "model_module": "@jupyter-widgets/controls",
          "model_name": "ProgressStyleModel",
          "state": {
            "_view_name": "StyleView",
            "_model_name": "ProgressStyleModel",
            "description_width": "initial",
            "_view_module": "@jupyter-widgets/base",
            "_model_module_version": "1.5.0",
            "_view_count": null,
            "_view_module_version": "1.2.0",
            "bar_color": null,
            "_model_module": "@jupyter-widgets/controls"
          }
        },
        "99920c86c9514fa886789707e4ea3289": {
          "model_module": "@jupyter-widgets/base",
          "model_name": "LayoutModel",
          "state": {
            "_view_name": "LayoutView",
            "grid_template_rows": null,
            "right": null,
            "justify_content": null,
            "_view_module": "@jupyter-widgets/base",
            "overflow": null,
            "_model_module_version": "1.2.0",
            "_view_count": null,
            "flex_flow": null,
            "width": null,
            "min_width": null,
            "border": null,
            "align_items": null,
            "bottom": null,
            "_model_module": "@jupyter-widgets/base",
            "top": null,
            "grid_column": null,
            "overflow_y": null,
            "overflow_x": null,
            "grid_auto_flow": null,
            "grid_area": null,
            "grid_template_columns": null,
            "flex": null,
            "_model_name": "LayoutModel",
            "justify_items": null,
            "grid_row": null,
            "max_height": null,
            "align_content": null,
            "visibility": null,
            "align_self": null,
            "height": null,
            "min_height": null,
            "padding": null,
            "grid_auto_rows": null,
            "grid_gap": null,
            "max_width": null,
            "order": null,
            "_view_module_version": "1.2.0",
            "grid_template_areas": null,
            "object_position": null,
            "object_fit": null,
            "grid_auto_columns": null,
            "margin": null,
            "display": null,
            "left": null
          }
        },
        "bc8ff975608e485b8fc0d8ccd116ba89": {
          "model_module": "@jupyter-widgets/controls",
          "model_name": "DescriptionStyleModel",
          "state": {
            "_view_name": "StyleView",
            "_model_name": "DescriptionStyleModel",
            "description_width": "",
            "_view_module": "@jupyter-widgets/base",
            "_model_module_version": "1.5.0",
            "_view_count": null,
            "_view_module_version": "1.2.0",
            "_model_module": "@jupyter-widgets/controls"
          }
        },
        "40c4a7bf1e5647a9b03bc7803ac93884": {
          "model_module": "@jupyter-widgets/base",
          "model_name": "LayoutModel",
          "state": {
            "_view_name": "LayoutView",
            "grid_template_rows": null,
            "right": null,
            "justify_content": null,
            "_view_module": "@jupyter-widgets/base",
            "overflow": null,
            "_model_module_version": "1.2.0",
            "_view_count": null,
            "flex_flow": null,
            "width": null,
            "min_width": null,
            "border": null,
            "align_items": null,
            "bottom": null,
            "_model_module": "@jupyter-widgets/base",
            "top": null,
            "grid_column": null,
            "overflow_y": null,
            "overflow_x": null,
            "grid_auto_flow": null,
            "grid_area": null,
            "grid_template_columns": null,
            "flex": null,
            "_model_name": "LayoutModel",
            "justify_items": null,
            "grid_row": null,
            "max_height": null,
            "align_content": null,
            "visibility": null,
            "align_self": null,
            "height": null,
            "min_height": null,
            "padding": null,
            "grid_auto_rows": null,
            "grid_gap": null,
            "max_width": null,
            "order": null,
            "_view_module_version": "1.2.0",
            "grid_template_areas": null,
            "object_position": null,
            "object_fit": null,
            "grid_auto_columns": null,
            "margin": null,
            "display": null,
            "left": null
          }
        },
        "78f9181816b642f58c771ecd168f26d4": {
          "model_module": "@jupyter-widgets/controls",
          "model_name": "HBoxModel",
          "state": {
            "_view_name": "HBoxView",
            "_dom_classes": [],
            "_model_name": "HBoxModel",
            "_view_module": "@jupyter-widgets/controls",
            "_model_module_version": "1.5.0",
            "_view_count": null,
            "_view_module_version": "1.5.0",
            "box_style": "",
            "layout": "IPY_MODEL_d05406622ca14a8086e23da26eaa6efb",
            "_model_module": "@jupyter-widgets/controls",
            "children": [
              "IPY_MODEL_f4c4056157244027a78d6fd56faf014f",
              "IPY_MODEL_de3aa33fe581493ea5f8ac6d30b52e8c"
            ]
          }
        },
        "d05406622ca14a8086e23da26eaa6efb": {
          "model_module": "@jupyter-widgets/base",
          "model_name": "LayoutModel",
          "state": {
            "_view_name": "LayoutView",
            "grid_template_rows": null,
            "right": null,
            "justify_content": null,
            "_view_module": "@jupyter-widgets/base",
            "overflow": null,
            "_model_module_version": "1.2.0",
            "_view_count": null,
            "flex_flow": null,
            "width": null,
            "min_width": null,
            "border": null,
            "align_items": null,
            "bottom": null,
            "_model_module": "@jupyter-widgets/base",
            "top": null,
            "grid_column": null,
            "overflow_y": null,
            "overflow_x": null,
            "grid_auto_flow": null,
            "grid_area": null,
            "grid_template_columns": null,
            "flex": null,
            "_model_name": "LayoutModel",
            "justify_items": null,
            "grid_row": null,
            "max_height": null,
            "align_content": null,
            "visibility": null,
            "align_self": null,
            "height": null,
            "min_height": null,
            "padding": null,
            "grid_auto_rows": null,
            "grid_gap": null,
            "max_width": null,
            "order": null,
            "_view_module_version": "1.2.0",
            "grid_template_areas": null,
            "object_position": null,
            "object_fit": null,
            "grid_auto_columns": null,
            "margin": null,
            "display": null,
            "left": null
          }
        },
        "f4c4056157244027a78d6fd56faf014f": {
          "model_module": "@jupyter-widgets/controls",
          "model_name": "FloatProgressModel",
          "state": {
            "_view_name": "ProgressView",
            "style": "IPY_MODEL_d0a6ddf9ead64b3181fc4a5b01ad20b0",
            "_dom_classes": [],
            "description": "  0%",
            "_model_name": "FloatProgressModel",
            "bar_style": "info",
            "max": 1,
            "_view_module": "@jupyter-widgets/controls",
            "_model_module_version": "1.5.0",
            "value": 0,
            "_view_count": null,
            "_view_module_version": "1.5.0",
            "orientation": "horizontal",
            "min": 0,
            "description_tooltip": null,
            "_model_module": "@jupyter-widgets/controls",
            "layout": "IPY_MODEL_7dfc70d0e0d34d03a6f9761cc1c58f5b"
          }
        },
        "de3aa33fe581493ea5f8ac6d30b52e8c": {
          "model_module": "@jupyter-widgets/controls",
          "model_name": "HTMLModel",
          "state": {
            "_view_name": "HTMLView",
            "style": "IPY_MODEL_17bae0054e8b40aa939e4c37165ed64f",
            "_dom_classes": [],
            "description": "",
            "_model_name": "HTMLModel",
            "placeholder": "​",
            "_view_module": "@jupyter-widgets/controls",
            "_model_module_version": "1.5.0",
            "value": " 0/4542 [00:00&lt;?, ?it/s]",
            "_view_count": null,
            "_view_module_version": "1.5.0",
            "description_tooltip": null,
            "_model_module": "@jupyter-widgets/controls",
            "layout": "IPY_MODEL_3c8439afefa948ff812375725c33ad21"
          }
        },
        "d0a6ddf9ead64b3181fc4a5b01ad20b0": {
          "model_module": "@jupyter-widgets/controls",
          "model_name": "ProgressStyleModel",
          "state": {
            "_view_name": "StyleView",
            "_model_name": "ProgressStyleModel",
            "description_width": "initial",
            "_view_module": "@jupyter-widgets/base",
            "_model_module_version": "1.5.0",
            "_view_count": null,
            "_view_module_version": "1.2.0",
            "bar_color": null,
            "_model_module": "@jupyter-widgets/controls"
          }
        },
        "7dfc70d0e0d34d03a6f9761cc1c58f5b": {
          "model_module": "@jupyter-widgets/base",
          "model_name": "LayoutModel",
          "state": {
            "_view_name": "LayoutView",
            "grid_template_rows": null,
            "right": null,
            "justify_content": null,
            "_view_module": "@jupyter-widgets/base",
            "overflow": null,
            "_model_module_version": "1.2.0",
            "_view_count": null,
            "flex_flow": null,
            "width": null,
            "min_width": null,
            "border": null,
            "align_items": null,
            "bottom": null,
            "_model_module": "@jupyter-widgets/base",
            "top": null,
            "grid_column": null,
            "overflow_y": null,
            "overflow_x": null,
            "grid_auto_flow": null,
            "grid_area": null,
            "grid_template_columns": null,
            "flex": null,
            "_model_name": "LayoutModel",
            "justify_items": null,
            "grid_row": null,
            "max_height": null,
            "align_content": null,
            "visibility": null,
            "align_self": null,
            "height": null,
            "min_height": null,
            "padding": null,
            "grid_auto_rows": null,
            "grid_gap": null,
            "max_width": null,
            "order": null,
            "_view_module_version": "1.2.0",
            "grid_template_areas": null,
            "object_position": null,
            "object_fit": null,
            "grid_auto_columns": null,
            "margin": null,
            "display": null,
            "left": null
          }
        },
        "17bae0054e8b40aa939e4c37165ed64f": {
          "model_module": "@jupyter-widgets/controls",
          "model_name": "DescriptionStyleModel",
          "state": {
            "_view_name": "StyleView",
            "_model_name": "DescriptionStyleModel",
            "description_width": "",
            "_view_module": "@jupyter-widgets/base",
            "_model_module_version": "1.5.0",
            "_view_count": null,
            "_view_module_version": "1.2.0",
            "_model_module": "@jupyter-widgets/controls"
          }
        },
        "3c8439afefa948ff812375725c33ad21": {
          "model_module": "@jupyter-widgets/base",
          "model_name": "LayoutModel",
          "state": {
            "_view_name": "LayoutView",
            "grid_template_rows": null,
            "right": null,
            "justify_content": null,
            "_view_module": "@jupyter-widgets/base",
            "overflow": null,
            "_model_module_version": "1.2.0",
            "_view_count": null,
            "flex_flow": null,
            "width": null,
            "min_width": null,
            "border": null,
            "align_items": null,
            "bottom": null,
            "_model_module": "@jupyter-widgets/base",
            "top": null,
            "grid_column": null,
            "overflow_y": null,
            "overflow_x": null,
            "grid_auto_flow": null,
            "grid_area": null,
            "grid_template_columns": null,
            "flex": null,
            "_model_name": "LayoutModel",
            "justify_items": null,
            "grid_row": null,
            "max_height": null,
            "align_content": null,
            "visibility": null,
            "align_self": null,
            "height": null,
            "min_height": null,
            "padding": null,
            "grid_auto_rows": null,
            "grid_gap": null,
            "max_width": null,
            "order": null,
            "_view_module_version": "1.2.0",
            "grid_template_areas": null,
            "object_position": null,
            "object_fit": null,
            "grid_auto_columns": null,
            "margin": null,
            "display": null,
            "left": null
          }
        }
      }
    }
  },
  "cells": [
    {
      "cell_type": "markdown",
      "metadata": {
        "id": "view-in-github",
        "colab_type": "text"
      },
      "source": [
        "<a href=\"https://colab.research.google.com/github/chettkulkarni/Reinforcement_Learning/blob/main/RL_Dl_homework_Chetan.ipynb\" target=\"_parent\"><img src=\"https://colab.research.google.com/assets/colab-badge.svg\" alt=\"Open In Colab\"/></a>"
      ]
    },
    {
      "cell_type": "markdown",
      "metadata": {
        "id": "v6VTio5MY81L"
      },
      "source": [
        "# DL Homework\n",
        "\n",
        "In this exercise we are running MSIT classifier using basic convnet.\n",
        "\n",
        "And then we will be implememnting nAdam optimser and use he initialisation technique to initialise weights of the model"
      ]
    },
    {
      "cell_type": "markdown",
      "metadata": {
        "id": "gKusR5agZY6C"
      },
      "source": [
        "# Importing libraries"
      ]
    },
    {
      "cell_type": "code",
      "metadata": {
        "id": "6pI9OHJjTckB"
      },
      "source": [
        "import torch \n",
        "import torch.nn as nn\n",
        "import torchvision\n",
        "import torchvision.transforms as transforms\n",
        "torch.manual_seed(0)\n",
        "\n",
        "device = torch.device('cuda:0' if torch.cuda.is_available() else 'cpu')"
      ],
      "execution_count": 1,
      "outputs": []
    },
    {
      "cell_type": "markdown",
      "metadata": {
        "id": "x7QbSoPsZf7k"
      },
      "source": [
        "# Intialisation of basic hyoer parameters"
      ]
    },
    {
      "cell_type": "code",
      "metadata": {
        "id": "T40hnCc1UQPG"
      },
      "source": [
        "# Device configuration\n",
        "device = torch.device('cuda:0' if torch.cuda.is_available() else 'cpu')\n",
        "\n",
        "# Hyper parameters\n",
        "num_epochs = 5\n",
        "num_classes = 10\n",
        "batch_size = 100\n",
        "learning_rate = 0.001"
      ],
      "execution_count": 2,
      "outputs": []
    },
    {
      "cell_type": "markdown",
      "metadata": {
        "id": "7ghtJ18CZjMp"
      },
      "source": [
        "# importing dataset"
      ]
    },
    {
      "cell_type": "code",
      "metadata": {
        "id": "h_ZZNlJ6URp2",
        "outputId": "4c02021d-9881-45c5-9669-3d704da79b88",
        "colab": {
          "base_uri": "https://localhost:8080/",
          "height": 403,
          "referenced_widgets": [
            "bfa942fea0d24206bea5180669129bb0",
            "96ade204f1d948f5b25256a389eae86f",
            "1c2c0e2d538d42b3814426f0f96d507e",
            "e35ca2873be74273a5712d636ab02a10",
            "b24a92aab3d2403897a55739f320b975",
            "44bfb35b27e94977828f85d5cec853d1",
            "eb27956d419945359316fee5ce7a9d22",
            "16b8db83c78d491d98728b353b383580",
            "f2035f30602a4014a9398fbde270f97e",
            "6f7aff24362e4e5597b8eaf4084067ca",
            "2c9a320a0c95440497bded00da3f1408",
            "12af99c4759e47988de89d4431a35792",
            "f75f35f39763463ba3898de9e9a794e5",
            "947797dad0644df7b82a4e69068789a1",
            "dd581c560dbf4f00b8b65bbeaf1b318c",
            "b038ea1b0c6c4adf8432d822187f08a9",
            "e94c0c7642b84cc29326d8bf5d16e956",
            "2c21e23375e847369cb09e1cb963c8be",
            "c990b515cee54d07ba28131bb6f94827",
            "8722c7d5702d46d2b4d0c733c0fa2b9f",
            "010bc6a3fbb643aab09db94365df2552",
            "99920c86c9514fa886789707e4ea3289",
            "bc8ff975608e485b8fc0d8ccd116ba89",
            "40c4a7bf1e5647a9b03bc7803ac93884",
            "78f9181816b642f58c771ecd168f26d4",
            "d05406622ca14a8086e23da26eaa6efb",
            "f4c4056157244027a78d6fd56faf014f",
            "de3aa33fe581493ea5f8ac6d30b52e8c",
            "d0a6ddf9ead64b3181fc4a5b01ad20b0",
            "7dfc70d0e0d34d03a6f9761cc1c58f5b",
            "17bae0054e8b40aa939e4c37165ed64f",
            "3c8439afefa948ff812375725c33ad21"
          ]
        }
      },
      "source": [
        "# MNIST dataset\n",
        "train_dataset = torchvision.datasets.MNIST(root='../../data/',\n",
        "                                           train=True, \n",
        "                                           transform=transforms.ToTensor(),\n",
        "                                           download=True)\n",
        "\n",
        "test_dataset = torchvision.datasets.MNIST(root='../../data/',\n",
        "                                          train=False, \n",
        "                                          transform=transforms.ToTensor())\n",
        "\n",
        "# Data loader\n",
        "train_loader = torch.utils.data.DataLoader(dataset=train_dataset,\n",
        "                                           batch_size=batch_size, \n",
        "                                           shuffle=True)\n",
        "\n",
        "test_loader = torch.utils.data.DataLoader(dataset=test_dataset,\n",
        "                                          batch_size=batch_size, \n",
        "                                          shuffle=False)\n"
      ],
      "execution_count": 4,
      "outputs": [
        {
          "output_type": "stream",
          "text": [
            "Downloading http://yann.lecun.com/exdb/mnist/train-images-idx3-ubyte.gz to ../../data/MNIST/raw/train-images-idx3-ubyte.gz\n"
          ],
          "name": "stdout"
        },
        {
          "output_type": "display_data",
          "data": {
            "application/vnd.jupyter.widget-view+json": {
              "model_id": "bfa942fea0d24206bea5180669129bb0",
              "version_minor": 0,
              "version_major": 2
            },
            "text/plain": [
              "HBox(children=(FloatProgress(value=1.0, bar_style='info', max=1.0), HTML(value='')))"
            ]
          },
          "metadata": {
            "tags": []
          }
        },
        {
          "output_type": "stream",
          "text": [
            "Extracting ../../data/MNIST/raw/train-images-idx3-ubyte.gz to ../../data/MNIST/raw\n",
            "Downloading http://yann.lecun.com/exdb/mnist/train-labels-idx1-ubyte.gz to ../../data/MNIST/raw/train-labels-idx1-ubyte.gz\n"
          ],
          "name": "stdout"
        },
        {
          "output_type": "display_data",
          "data": {
            "application/vnd.jupyter.widget-view+json": {
              "model_id": "f2035f30602a4014a9398fbde270f97e",
              "version_minor": 0,
              "version_major": 2
            },
            "text/plain": [
              "HBox(children=(FloatProgress(value=1.0, bar_style='info', max=1.0), HTML(value='')))"
            ]
          },
          "metadata": {
            "tags": []
          }
        },
        {
          "output_type": "stream",
          "text": [
            "Extracting ../../data/MNIST/raw/train-labels-idx1-ubyte.gz to ../../data/MNIST/raw\n",
            "Downloading http://yann.lecun.com/exdb/mnist/t10k-images-idx3-ubyte.gz to ../../data/MNIST/raw/t10k-images-idx3-ubyte.gz\n"
          ],
          "name": "stdout"
        },
        {
          "output_type": "display_data",
          "data": {
            "application/vnd.jupyter.widget-view+json": {
              "model_id": "e94c0c7642b84cc29326d8bf5d16e956",
              "version_minor": 0,
              "version_major": 2
            },
            "text/plain": [
              "HBox(children=(FloatProgress(value=1.0, bar_style='info', max=1.0), HTML(value='')))"
            ]
          },
          "metadata": {
            "tags": []
          }
        },
        {
          "output_type": "stream",
          "text": [
            "Extracting ../../data/MNIST/raw/t10k-images-idx3-ubyte.gz to ../../data/MNIST/raw\n",
            "Downloading http://yann.lecun.com/exdb/mnist/t10k-labels-idx1-ubyte.gz to ../../data/MNIST/raw/t10k-labels-idx1-ubyte.gz\n",
            "\n",
            "\n"
          ],
          "name": "stdout"
        },
        {
          "output_type": "display_data",
          "data": {
            "application/vnd.jupyter.widget-view+json": {
              "model_id": "78f9181816b642f58c771ecd168f26d4",
              "version_minor": 0,
              "version_major": 2
            },
            "text/plain": [
              "HBox(children=(FloatProgress(value=1.0, bar_style='info', max=1.0), HTML(value='')))"
            ]
          },
          "metadata": {
            "tags": []
          }
        },
        {
          "output_type": "stream",
          "text": [
            "Extracting ../../data/MNIST/raw/t10k-labels-idx1-ubyte.gz to ../../data/MNIST/raw\n",
            "Processing...\n",
            "Done!\n"
          ],
          "name": "stdout"
        },
        {
          "output_type": "stream",
          "text": [
            "/usr/local/lib/python3.6/dist-packages/torchvision/datasets/mnist.py:469: UserWarning: The given NumPy array is not writeable, and PyTorch does not support non-writeable tensors. This means you can write to the underlying (supposedly non-writeable) NumPy array using the tensor. You may want to copy the array to protect its data or make it writeable before converting it to a tensor. This type of warning will be suppressed for the rest of this program. (Triggered internally at  /pytorch/torch/csrc/utils/tensor_numpy.cpp:141.)\n",
            "  return torch.from_numpy(parsed.astype(m[2], copy=False)).view(*s)\n"
          ],
          "name": "stderr"
        }
      ]
    },
    {
      "cell_type": "markdown",
      "metadata": {
        "id": "a07E1Y33Y7c3"
      },
      "source": [
        "# Basic ConvNet for classification"
      ]
    },
    {
      "cell_type": "code",
      "metadata": {
        "id": "YqhwPVZKUTxn"
      },
      "source": [
        "class ConvNet(nn.Module):\n",
        "    def __init__(self, num_classes=10):\n",
        "        super(ConvNet, self).__init__()\n",
        "        self.layer1 = nn.Sequential(\n",
        "            nn.Conv2d(1, 16, kernel_size=5, stride=1, padding=2),\n",
        "            nn.BatchNorm2d(16),\n",
        "            nn.ReLU(),\n",
        "            nn.MaxPool2d(kernel_size=2, stride=2))\n",
        "        self.layer2 = nn.Sequential(\n",
        "            nn.Conv2d(16, 32, kernel_size=5, stride=1, padding=2),\n",
        "            nn.BatchNorm2d(32),\n",
        "            nn.ReLU(),\n",
        "            nn.MaxPool2d(kernel_size=2, stride=2))\n",
        "        self.fc = nn.Linear(7*7*32, num_classes)\n",
        "        \n",
        "    def forward(self, x):\n",
        "        out = self.layer1(x)\n",
        "        out = self.layer2(out)\n",
        "        out = out.reshape(out.size(0), -1)\n",
        "        out = self.fc(out)\n",
        "        return out\n",
        "\n"
      ],
      "execution_count": 5,
      "outputs": []
    },
    {
      "cell_type": "markdown",
      "metadata": {
        "id": "I-JqLTMgZta3"
      },
      "source": [
        "# Train All function to  initiate model training and testing multiple times"
      ]
    },
    {
      "cell_type": "code",
      "metadata": {
        "id": "JHrYimxSYfdj"
      },
      "source": [
        "def train_all():\n",
        "  total_step = len(train_loader)\n",
        "  for epoch in range(num_epochs):\n",
        "      for i, (images, labels) in enumerate(train_loader):\n",
        "          images = images.to(device)\n",
        "          labels = labels.to(device)\n",
        "          \n",
        "          # Forward pass\n",
        "          outputs = model(images)\n",
        "          loss = criterion(outputs, labels)\n",
        "          \n",
        "          # Backward and optimize\n",
        "          optimizer.zero_grad()\n",
        "          loss.backward()\n",
        "          optimizer.step()\n",
        "          \n",
        "          if (i+1) % 100 == 0:\n",
        "              print ('Epoch [{}/{}], Step [{}/{}], Loss: {:.4f}' \n",
        "                    .format(epoch+1, num_epochs, i+1, total_step, loss.item()))\n",
        "                    \n",
        "  # Test the model\n",
        "\n",
        "  # eval mode (batchnorm uses moving mean/variance instead of mini-batch mean/variance)\n",
        "  model.eval()\n",
        "  with torch.no_grad():\n",
        "      correct = 0\n",
        "      total = 0\n",
        "      for images, labels in test_loader:\n",
        "          images = images.to(device)\n",
        "          labels = labels.to(device)\n",
        "          outputs = model(images)\n",
        "          _, predicted = torch.max(outputs.data, 1)\n",
        "          total += labels.size(0)\n",
        "          correct += (predicted == labels).sum().item()\n",
        "\n",
        "      print('Test Accuracy of the model on the 10000 test images: {} %'.format(100 * correct / total))"
      ],
      "execution_count": 6,
      "outputs": []
    },
    {
      "cell_type": "markdown",
      "metadata": {
        "id": "2CDKkmKyZ3Tz"
      },
      "source": [
        "# Running the model with Adam Optimiser and loss function of cross entropy"
      ]
    },
    {
      "cell_type": "code",
      "metadata": {
        "id": "3FWPk3wfYiLl"
      },
      "source": [
        "model = ConvNet(num_classes).to(device)\n",
        "optimizer = torch.optim.Adam(model.parameters(), lr=learning_rate)\n",
        "criterion = nn.CrossEntropyLoss()"
      ],
      "execution_count": 7,
      "outputs": []
    },
    {
      "cell_type": "code",
      "metadata": {
        "id": "FaoPEmVnaMHA",
        "outputId": "ca0695e2-6721-4b6c-a090-a8b508e32911",
        "colab": {
          "base_uri": "https://localhost:8080/",
          "height": 544
        }
      },
      "source": [
        "train_all()"
      ],
      "execution_count": 8,
      "outputs": [
        {
          "output_type": "stream",
          "text": [
            "Epoch [1/5], Step [100/600], Loss: 0.1006\n",
            "Epoch [1/5], Step [200/600], Loss: 0.1255\n",
            "Epoch [1/5], Step [300/600], Loss: 0.1205\n",
            "Epoch [1/5], Step [400/600], Loss: 0.0949\n",
            "Epoch [1/5], Step [500/600], Loss: 0.1303\n",
            "Epoch [1/5], Step [600/600], Loss: 0.0349\n",
            "Epoch [2/5], Step [100/600], Loss: 0.0436\n",
            "Epoch [2/5], Step [200/600], Loss: 0.0510\n",
            "Epoch [2/5], Step [300/600], Loss: 0.0259\n",
            "Epoch [2/5], Step [400/600], Loss: 0.0178\n",
            "Epoch [2/5], Step [500/600], Loss: 0.0552\n",
            "Epoch [2/5], Step [600/600], Loss: 0.0610\n",
            "Epoch [3/5], Step [100/600], Loss: 0.0700\n",
            "Epoch [3/5], Step [200/600], Loss: 0.0471\n",
            "Epoch [3/5], Step [300/600], Loss: 0.0079\n",
            "Epoch [3/5], Step [400/600], Loss: 0.0281\n",
            "Epoch [3/5], Step [500/600], Loss: 0.0054\n",
            "Epoch [3/5], Step [600/600], Loss: 0.0514\n",
            "Epoch [4/5], Step [100/600], Loss: 0.0948\n",
            "Epoch [4/5], Step [200/600], Loss: 0.0256\n",
            "Epoch [4/5], Step [300/600], Loss: 0.0575\n",
            "Epoch [4/5], Step [400/600], Loss: 0.0074\n",
            "Epoch [4/5], Step [500/600], Loss: 0.0347\n",
            "Epoch [4/5], Step [600/600], Loss: 0.0019\n",
            "Epoch [5/5], Step [100/600], Loss: 0.0501\n",
            "Epoch [5/5], Step [200/600], Loss: 0.0268\n",
            "Epoch [5/5], Step [300/600], Loss: 0.0059\n",
            "Epoch [5/5], Step [400/600], Loss: 0.0105\n",
            "Epoch [5/5], Step [500/600], Loss: 0.0138\n",
            "Epoch [5/5], Step [600/600], Loss: 0.0475\n",
            "Test Accuracy of the model on the 10000 test images: 99.06 %\n"
          ],
          "name": "stdout"
        }
      ]
    },
    {
      "cell_type": "markdown",
      "metadata": {
        "id": "mF14berNadGT"
      },
      "source": [
        "### Accuracy of 99.06% with adam classifier and no initialisation"
      ]
    },
    {
      "cell_type": "markdown",
      "metadata": {
        "id": "9jAUlEWJamfk"
      },
      "source": [
        "# He Intialisation\n",
        "\n",
        "Here we will be intialisae weights using He intialisation technique.\n",
        "\n",
        "Training the model with initilised weights and Adam optimser and cross entropy loss"
      ]
    },
    {
      "cell_type": "code",
      "metadata": {
        "id": "THoNqkduYxUk",
        "outputId": "4d27d27a-f9da-4b1b-a502-aefe26a85d63",
        "colab": {
          "base_uri": "https://localhost:8080/",
          "height": 544
        }
      },
      "source": [
        "def initialise_weights(m):\n",
        "    if isinstance(m, nn.Conv2d):\n",
        "        nn.init.kaiming_uniform_(m.weight.data)\n",
        "        nn.init.zeros_(m.bias.data)\n",
        "\n",
        "model = ConvNet(num_classes).to(device)\n",
        "optimizer = torch.optim.Adam(model.parameters(), lr=learning_rate)\n",
        "criterion = nn.CrossEntropyLoss()       \n",
        "model.apply(initialise_weights)\n",
        "train_all()"
      ],
      "execution_count": 10,
      "outputs": [
        {
          "output_type": "stream",
          "text": [
            "Epoch [1/5], Step [100/600], Loss: 0.3438\n",
            "Epoch [1/5], Step [200/600], Loss: 0.1632\n",
            "Epoch [1/5], Step [300/600], Loss: 0.0707\n",
            "Epoch [1/5], Step [400/600], Loss: 0.1313\n",
            "Epoch [1/5], Step [500/600], Loss: 0.0242\n",
            "Epoch [1/5], Step [600/600], Loss: 0.0677\n",
            "Epoch [2/5], Step [100/600], Loss: 0.0154\n",
            "Epoch [2/5], Step [200/600], Loss: 0.0286\n",
            "Epoch [2/5], Step [300/600], Loss: 0.0417\n",
            "Epoch [2/5], Step [400/600], Loss: 0.0346\n",
            "Epoch [2/5], Step [500/600], Loss: 0.0129\n",
            "Epoch [2/5], Step [600/600], Loss: 0.1204\n",
            "Epoch [3/5], Step [100/600], Loss: 0.0172\n",
            "Epoch [3/5], Step [200/600], Loss: 0.0298\n",
            "Epoch [3/5], Step [300/600], Loss: 0.0306\n",
            "Epoch [3/5], Step [400/600], Loss: 0.0182\n",
            "Epoch [3/5], Step [500/600], Loss: 0.0145\n",
            "Epoch [3/5], Step [600/600], Loss: 0.0224\n",
            "Epoch [4/5], Step [100/600], Loss: 0.0386\n",
            "Epoch [4/5], Step [200/600], Loss: 0.0203\n",
            "Epoch [4/5], Step [300/600], Loss: 0.0414\n",
            "Epoch [4/5], Step [400/600], Loss: 0.0193\n",
            "Epoch [4/5], Step [500/600], Loss: 0.0403\n",
            "Epoch [4/5], Step [600/600], Loss: 0.0020\n",
            "Epoch [5/5], Step [100/600], Loss: 0.0026\n",
            "Epoch [5/5], Step [200/600], Loss: 0.0576\n",
            "Epoch [5/5], Step [300/600], Loss: 0.0199\n",
            "Epoch [5/5], Step [400/600], Loss: 0.0078\n",
            "Epoch [5/5], Step [500/600], Loss: 0.0008\n",
            "Epoch [5/5], Step [600/600], Loss: 0.0158\n",
            "Test Accuracy of the model on the 10000 test images: 98.8 %\n"
          ],
          "name": "stdout"
        }
      ]
    },
    {
      "cell_type": "markdown",
      "metadata": {
        "id": "n50SDMtaajep"
      },
      "source": [
        "### With the initiased weights the accuracy of system fell down to 98.8%"
      ]
    },
    {
      "cell_type": "markdown",
      "metadata": {
        "id": "ZG0eGsb5bddF"
      },
      "source": [
        "# Trying with NAdam Optimser\n",
        "\n",
        "its not available directly, but there is a distribution by torch on github for the same\n",
        "\n",
        "[GitHub Pull for Nadam optimiser](https://github.com/pytorch/pytorch/pull/1414/files)"
      ]
    },
    {
      "cell_type": "code",
      "metadata": {
        "id": "bTt1s7QkXqxG"
      },
      "source": [
        "import math\n",
        "from torch.optim.optimizer import Optimizer\n",
        "\n",
        "class Nadam(Optimizer):\n",
        "    \"\"\"Implements Nadam algorithm.\n",
        "    It has been proposed in `Incorporating Nesterov Momentum into Adam`_.\n",
        "    Arguments:\n",
        "        params (iterable): iterable of parameters to optimize or dicts defining\n",
        "            parameter groups\n",
        "        lr (float, optional): learning rate (default: 2e-3)\n",
        "        betas (Tuple[float, float], optional): coefficients used for computing\n",
        "            running averages of gradient and its square (default: (0.975, 0.999))\n",
        "        eps (float, optional): term added to the denominator to improve\n",
        "            numerical stability (default: 1e-8)\n",
        "        schedule_decay (float, optional): beta1 decay factor (default: 0)\n",
        "        weight_decay (float, optional): weight decay (L2 penalty) (default: 0)\n",
        "    .. _Incorporating Nesterov Momentum into Adam\n",
        "        https://openreview.net/pdf?id=OM0jvwB8jIp57ZJjtNEZ\n",
        "    \"\"\"\n",
        "\n",
        "    def __init__(self, params, lr=2e-3, betas=(0.975, 0.999), eps=1e-8,\n",
        "                 schedule_decay=0, weight_decay=0):\n",
        "        defaults = dict(lr=lr, betas=betas, eps=eps,\n",
        "                        schedule_decay=schedule_decay, weight_decay=weight_decay,\n",
        "                        prod_beta1=1.)\n",
        "        super(Nadam, self).__init__(params, defaults)\n",
        "\n",
        "    def step(self, closure=None):\n",
        "        \"\"\"Performs a single optimization step.\n",
        "        Arguments:\n",
        "            closure (callable, optional): A closure that reevaluates the model\n",
        "                and returns the loss.\n",
        "        \"\"\"\n",
        "        loss = None\n",
        "        if closure is not None:\n",
        "            loss = closure()\n",
        "\n",
        "        for group in self.param_groups:\n",
        "            beta1, beta2 = group['betas']\n",
        "\n",
        "            for p in group['params']:\n",
        "                if p.grad is None:\n",
        "                    continue\n",
        "                grad = p.grad.data\n",
        "                state = self.state[p]\n",
        "\n",
        "                # State initialization\n",
        "                if len(state) == 0:\n",
        "                    state['step'] = 0\n",
        "                    # Exponential moving average of gradient values\n",
        "                    state['exp_avg'] = grad.new().resize_as_(grad).zero_()\n",
        "                    # Exponential moving average of squared gradient values\n",
        "                    state['exp_avg_sq'] = grad.new().resize_as_(grad).zero_()\n",
        "\n",
        "                exp_avg, exp_avg_sq = state['exp_avg'], state['exp_avg_sq']\n",
        "                state['step'] += 1\n",
        "\n",
        "                if group['weight_decay'] != 0:\n",
        "                    grad = grad.add(group['weight_decay'], p.data)\n",
        "\n",
        "                schedule_decay = group['schedule_decay']\n",
        "                cur_beta1 = beta1 * (1. - 0.5 * (0.96 ** (state['step'] * schedule_decay)))\n",
        "                next_beta1 = beta1 * (1. - 0.5 * (0.96 ** ((state['step'] + 1) * schedule_decay)))\n",
        "                prod_beta1 = group['prod_beta1']\n",
        "                prod_beta1 *= cur_beta1\n",
        "                next_prod_beta1 = prod_beta1 * next_beta1\n",
        "                bias_correction1 = (1 - cur_beta1) / (1 - prod_beta1)\n",
        "                next_bias_correction1 = next_beta1 / (1 - next_prod_beta1)\n",
        "\n",
        "                # Decay the first and second moment running average coefficient\n",
        "                exp_avg.mul_(cur_beta1).add_(1 - cur_beta1, grad)\n",
        "                exp_avg_sq.mul_(beta2).addcmul_(1 - beta2, grad, grad)\n",
        "\n",
        "                sqrt_bias_correction2 = math.sqrt((1 - beta2 ** state['step']) / beta2)\n",
        "                step_size = group['lr'] * sqrt_bias_correction2\n",
        "\n",
        "                denom = exp_avg_sq.sqrt().add_(group['eps'])\n",
        "\n",
        "                # For memory efficiency, separate update into two\n",
        "                p.data.addcdiv_(-step_size * next_bias_correction1, exp_avg, denom)\n",
        "                p.data.addcdiv_(-step_size * bias_correction1, grad, denom)\n",
        "\n",
        "                # update prod_beta1\n",
        "                group['prod_beta1'] = prod_beta1\n",
        "\n",
        "        return loss"
      ],
      "execution_count": 11,
      "outputs": []
    },
    {
      "cell_type": "code",
      "metadata": {
        "id": "nhEd6epgXKtd",
        "outputId": "f6bbfaf3-fdef-4e94-f787-4cebee45e0e7",
        "colab": {
          "base_uri": "https://localhost:8080/",
          "height": 612
        }
      },
      "source": [
        "model = ConvNet(num_classes).to(device)\n",
        "criterion = nn.CrossEntropyLoss()\n",
        "optimizer = Nadam(model.parameters(), lr=learning_rate)\n",
        "train_all()"
      ],
      "execution_count": 12,
      "outputs": [
        {
          "output_type": "stream",
          "text": [
            "/usr/local/lib/python3.6/dist-packages/ipykernel_launcher.py:71: UserWarning: This overload of add_ is deprecated:\n",
            "\tadd_(Number alpha, Tensor other)\n",
            "Consider using one of the following signatures instead:\n",
            "\tadd_(Tensor other, *, Number alpha) (Triggered internally at  /pytorch/torch/csrc/utils/python_arg_parser.cpp:766.)\n"
          ],
          "name": "stderr"
        },
        {
          "output_type": "stream",
          "text": [
            "Epoch [1/5], Step [100/600], Loss: 0.1679\n",
            "Epoch [1/5], Step [200/600], Loss: 0.1061\n",
            "Epoch [1/5], Step [300/600], Loss: 0.0930\n",
            "Epoch [1/5], Step [400/600], Loss: 0.1010\n",
            "Epoch [1/5], Step [500/600], Loss: 0.0846\n",
            "Epoch [1/5], Step [600/600], Loss: 0.0186\n",
            "Epoch [2/5], Step [100/600], Loss: 0.0587\n",
            "Epoch [2/5], Step [200/600], Loss: 0.0406\n",
            "Epoch [2/5], Step [300/600], Loss: 0.0251\n",
            "Epoch [2/5], Step [400/600], Loss: 0.0284\n",
            "Epoch [2/5], Step [500/600], Loss: 0.0061\n",
            "Epoch [2/5], Step [600/600], Loss: 0.0487\n",
            "Epoch [3/5], Step [100/600], Loss: 0.0134\n",
            "Epoch [3/5], Step [200/600], Loss: 0.0031\n",
            "Epoch [3/5], Step [300/600], Loss: 0.0335\n",
            "Epoch [3/5], Step [400/600], Loss: 0.0417\n",
            "Epoch [3/5], Step [500/600], Loss: 0.0159\n",
            "Epoch [3/5], Step [600/600], Loss: 0.0287\n",
            "Epoch [4/5], Step [100/600], Loss: 0.0030\n",
            "Epoch [4/5], Step [200/600], Loss: 0.0190\n",
            "Epoch [4/5], Step [300/600], Loss: 0.0072\n",
            "Epoch [4/5], Step [400/600], Loss: 0.0162\n",
            "Epoch [4/5], Step [500/600], Loss: 0.0101\n",
            "Epoch [4/5], Step [600/600], Loss: 0.0089\n",
            "Epoch [5/5], Step [100/600], Loss: 0.0105\n",
            "Epoch [5/5], Step [200/600], Loss: 0.0181\n",
            "Epoch [5/5], Step [300/600], Loss: 0.0262\n",
            "Epoch [5/5], Step [400/600], Loss: 0.0049\n",
            "Epoch [5/5], Step [500/600], Loss: 0.0362\n",
            "Epoch [5/5], Step [600/600], Loss: 0.0284\n",
            "Test Accuracy of the model on the 10000 test images: 98.79 %\n"
          ],
          "name": "stdout"
        }
      ]
    },
    {
      "cell_type": "markdown",
      "metadata": {
        "id": "J5_wCq1BcoUn"
      },
      "source": [
        "### When we changes the optiser to nAdam , accuracy went to 98.79 , which is lower than the original when we had adam optimiser"
      ]
    },
    {
      "cell_type": "markdown",
      "metadata": {
        "id": "oqBFvRZfczOV"
      },
      "source": [
        "# Using Both Nadam and \"he\" weight intitialsation "
      ]
    },
    {
      "cell_type": "code",
      "metadata": {
        "id": "fs_NwRivUcpl",
        "outputId": "cfe1e9fa-c998-43b7-f89b-67a8171c8480",
        "colab": {
          "base_uri": "https://localhost:8080/",
          "height": 544
        }
      },
      "source": [
        "model = ConvNet(num_classes).to(device)\n",
        "optimizer = Nadam(model.parameters(), lr=learning_rate)\n",
        "criterion = nn.CrossEntropyLoss()       \n",
        "model.apply(initialise_weights)\n",
        "train_all()"
      ],
      "execution_count": 13,
      "outputs": [
        {
          "output_type": "stream",
          "text": [
            "Epoch [1/5], Step [100/600], Loss: 0.2094\n",
            "Epoch [1/5], Step [200/600], Loss: 0.0958\n",
            "Epoch [1/5], Step [300/600], Loss: 0.1001\n",
            "Epoch [1/5], Step [400/600], Loss: 0.1273\n",
            "Epoch [1/5], Step [500/600], Loss: 0.0613\n",
            "Epoch [1/5], Step [600/600], Loss: 0.0670\n",
            "Epoch [2/5], Step [100/600], Loss: 0.0207\n",
            "Epoch [2/5], Step [200/600], Loss: 0.0361\n",
            "Epoch [2/5], Step [300/600], Loss: 0.0618\n",
            "Epoch [2/5], Step [400/600], Loss: 0.0824\n",
            "Epoch [2/5], Step [500/600], Loss: 0.0865\n",
            "Epoch [2/5], Step [600/600], Loss: 0.0433\n",
            "Epoch [3/5], Step [100/600], Loss: 0.0800\n",
            "Epoch [3/5], Step [200/600], Loss: 0.0495\n",
            "Epoch [3/5], Step [300/600], Loss: 0.0686\n",
            "Epoch [3/5], Step [400/600], Loss: 0.0248\n",
            "Epoch [3/5], Step [500/600], Loss: 0.0715\n",
            "Epoch [3/5], Step [600/600], Loss: 0.0511\n",
            "Epoch [4/5], Step [100/600], Loss: 0.0104\n",
            "Epoch [4/5], Step [200/600], Loss: 0.0164\n",
            "Epoch [4/5], Step [300/600], Loss: 0.1066\n",
            "Epoch [4/5], Step [400/600], Loss: 0.0250\n",
            "Epoch [4/5], Step [500/600], Loss: 0.0462\n",
            "Epoch [4/5], Step [600/600], Loss: 0.1005\n",
            "Epoch [5/5], Step [100/600], Loss: 0.0089\n",
            "Epoch [5/5], Step [200/600], Loss: 0.0258\n",
            "Epoch [5/5], Step [300/600], Loss: 0.0571\n",
            "Epoch [5/5], Step [400/600], Loss: 0.0147\n",
            "Epoch [5/5], Step [500/600], Loss: 0.0627\n",
            "Epoch [5/5], Step [600/600], Loss: 0.0027\n",
            "Test Accuracy of the model on the 10000 test images: 99.06 %\n"
          ],
          "name": "stdout"
        }
      ]
    },
    {
      "cell_type": "markdown",
      "metadata": {
        "id": "rwtrEjSUdeI-"
      },
      "source": [
        "### When i used both Nadam optimiser and He wiight initialisatio, the model had the accuracy of 99.06% but it can be observed that train loss is comparatively less than base model.\n",
        "\n",
        "Hence we should try different weight initlisation and optimiser to find a hyperparameter that works with problem at hand"
      ]
    },
    {
      "cell_type": "code",
      "metadata": {
        "id": "g_7IqZPsdGNc"
      },
      "source": [
        ""
      ],
      "execution_count": null,
      "outputs": []
    }
  ]
}